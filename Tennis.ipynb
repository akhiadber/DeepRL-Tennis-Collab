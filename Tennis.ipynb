{
 "cells": [
  {
   "cell_type": "markdown",
   "metadata": {},
   "source": [
    "# Collaboration and Competition\n",
    "\n",
    "---\n",
    "\n",
    "In this notebook, we will solve the Unity ML-Agents environment \"Tennis\" for the third project of the [Deep Reinforcement Learning Nanodegree](https://www.udacity.com/course/deep-reinforcement-learning-nanodegree--nd893) program.\n",
    "\n",
    "### 1. Test the Environment\n",
    "\n",
    "We begin by importing the necessary packages.  If the code cell below returns an error, please revisit the project instructions to double-check that you have installed [Unity ML-Agents](https://github.com/Unity-Technologies/ml-agents/blob/master/docs/Installation.md) and [NumPy](http://www.numpy.org/)."
   ]
  },
  {
   "cell_type": "code",
   "execution_count": 1,
   "metadata": {},
   "outputs": [],
   "source": [
    "# External libraries\n",
    "from unityagents import UnityEnvironment\n",
    "import numpy as np\n",
    "import torch\n",
    "\n",
    "# Our code base\n",
    "import env\n",
    "import agent\n",
    "import run"
   ]
  },
  {
   "cell_type": "markdown",
   "metadata": {},
   "source": [
    "### 2. Explanations of State and Action Spaces\n",
    "\n",
    "In this environment, two agents control rackets to bounce a ball over a net. If an agent hits the ball over the net, it receives a reward of +0.1.  If an agent lets a ball hit the ground or hits the ball out of bounds, it receives a reward of -0.01.  Thus, the goal of each agent is to keep the ball in play.\n",
    "\n",
    "The observation space consists of 8 variables corresponding to the position and velocity of the ball and racket. Two continuous actions are available, corresponding to movement toward (or away from) the net, and jumping. \n",
    "\n",
    "The hyperparameters used appear in 'agent.py', and the final hyperparameters are also copied below:\n",
    "```\n",
    "BUFFER_SIZE = int(1e6)  # replay buffer size\n",
    "BATCH_SIZE = 256        # minibatch size\n",
    "GAMMA = 0.99            # discount factor\n",
    "TAU = 1e-3              # for soft update of target parameters\n",
    "LR_ACTOR = 1e-3         # learning rate of the actor\n",
    "LR_CRITIC = 1e-3        # learning rate of the critic\n",
    "WEIGHT_DECAY = 0        # L2 weight decay\n",
    "UPDATE_EVERY = 4        # timesteps between updates\n",
    "NUM_UPDATES = 2         # num of update passes when updating\n",
    "NOISE_START = 1.0       # epsilon decay for the noise process added to the actions\n",
    "NOISE_DECAY = 1e-6      # decay for for subrtaction of noise\n",
    "NOISE_SIGMA = 0.2       # sigma for Ornstein-Uhlenbeck noise\n",
    "```\n",
    "Environment and model details will be printed below.\n"
   ]
  },
  {
   "cell_type": "markdown",
   "metadata": {},
   "source": [
    "### 3. Now to solve the task"
   ]
  },
  {
   "cell_type": "code",
   "execution_count": 2,
   "metadata": {},
   "outputs": [
    {
     "name": "stderr",
     "output_type": "stream",
     "text": [
      "INFO:unityagents:\n",
      "'Academy' started successfully!\n",
      "Unity Academy name: Academy\n",
      "        Number of Brains: 1\n",
      "        Number of External Brains : 1\n",
      "        Lesson number : 0\n",
      "        Reset Parameters :\n",
      "\t\t\n",
      "Unity brain name: TennisBrain\n",
      "        Number of Visual Observations (per agent): 0\n",
      "        Vector Observation space type: continuous\n",
      "        Vector Observation space size (per agent): 8\n",
      "        Number of stacked Vector Observation: 3\n",
      "        Vector Action space type: continuous\n",
      "        Vector Action space size (per agent): 2\n",
      "        Vector Action descriptions: , \n"
     ]
    },
    {
     "name": "stdout",
     "output_type": "stream",
     "text": [
      "Actor(\n",
      "  (bn0): BatchNorm1d(24, eps=1e-05, momentum=0.1, affine=True, track_running_stats=True)\n",
      "  (fc1): Linear(in_features=24, out_features=512, bias=True)\n",
      "  (bn1): BatchNorm1d(512, eps=1e-05, momentum=0.1, affine=True, track_running_stats=True)\n",
      "  (fc2): Linear(in_features=512, out_features=512, bias=True)\n",
      "  (bn2): BatchNorm1d(512, eps=1e-05, momentum=0.1, affine=True, track_running_stats=True)\n",
      "  (fc3): Linear(in_features=512, out_features=2, bias=True)\n",
      ")\n",
      "Critic(\n",
      "  (bn0): BatchNorm1d(48, eps=1e-05, momentum=0.1, affine=True, track_running_stats=True)\n",
      "  (fcs1): Linear(in_features=48, out_features=512, bias=True)\n",
      "  (fc2): Linear(in_features=516, out_features=512, bias=True)\n",
      "  (fc3): Linear(in_features=512, out_features=1, bias=True)\n",
      ")\n",
      "Actor(\n",
      "  (bn0): BatchNorm1d(24, eps=1e-05, momentum=0.1, affine=True, track_running_stats=True)\n",
      "  (fc1): Linear(in_features=24, out_features=512, bias=True)\n",
      "  (bn1): BatchNorm1d(512, eps=1e-05, momentum=0.1, affine=True, track_running_stats=True)\n",
      "  (fc2): Linear(in_features=512, out_features=512, bias=True)\n",
      "  (bn2): BatchNorm1d(512, eps=1e-05, momentum=0.1, affine=True, track_running_stats=True)\n",
      "  (fc3): Linear(in_features=512, out_features=2, bias=True)\n",
      ")\n",
      "Critic(\n",
      "  (bn0): BatchNorm1d(48, eps=1e-05, momentum=0.1, affine=True, track_running_stats=True)\n",
      "  (fcs1): Linear(in_features=48, out_features=512, bias=True)\n",
      "  (fc2): Linear(in_features=516, out_features=512, bias=True)\n",
      "  (fc3): Linear(in_features=512, out_features=1, bias=True)\n",
      ")\n",
      "Episode:   100   Avg:    0.007   BestAvg:     -inf   σ:    0.026  |  Tot. Steps:     1539   Secs:     23      |  Buffer:   1639   NoiseW: 0.9967\n",
      "Episode:   200   Avg:    0.012   BestAvg:    0.014   σ:    0.032  |  Tot. Steps:     3191   Secs:     52      |  Buffer:   3391   NoiseW: 0.9932\n",
      "Episode:   300   Avg:    0.002   BestAvg:    0.014   σ:    0.013  |  Tot. Steps:     4543   Secs:     76      |  Buffer:   4843   NoiseW: 0.9903\n",
      "Episode:   400   Avg:    0.015   BestAvg:    0.016   σ:    0.035  |  Tot. Steps:     6248   Secs:    105      |  Buffer:   6648   NoiseW: 0.9867\n",
      "Episode:   500   Avg:    0.012   BestAvg:    0.016   σ:    0.032  |  Tot. Steps:     7786   Secs:    133      |  Buffer:   8286   NoiseW: 0.9834\n",
      "Episode:   600   Avg:    0.029   BestAvg:    0.030   σ:    0.044  |  Tot. Steps:     9646   Secs:    165      |  Buffer:  10246   NoiseW: 0.9795\n",
      "Episode:   700   Avg:    0.046   BestAvg:    0.046   σ:    0.050  |  Tot. Steps:    11730   Secs:    201      |  Buffer:  12430   NoiseW: 0.9751\n",
      "Episode:   800   Avg:    0.054   BestAvg:    0.056   σ:    0.049  |  Tot. Steps:    13972   Secs:    240      |  Buffer:  14772   NoiseW: 0.9705\n",
      "Episode:   900   Avg:    0.065   BestAvg:    0.065   σ:    0.047  |  Tot. Steps:    16525   Secs:    284      |  Buffer:  17425   NoiseW: 0.9651\n",
      "Episode:  1000   Avg:    0.083   BestAvg:    0.085   σ:    0.038  |  Tot. Steps:    19560   Secs:    335      |  Buffer:  20560   NoiseW: 0.9589\n",
      "Episode:  1100   Avg:    0.077   BestAvg:    0.085   σ:    0.053  |  Tot. Steps:    22612   Secs:    387      |  Buffer:  23712   NoiseW: 0.9526\n",
      "Episode:  1200   Avg:    0.112   BestAvg:    0.112   σ:    0.067  |  Tot. Steps:    26824   Secs:    459      |  Buffer:  28024   NoiseW: 0.944\n",
      "Episode:  1300   Avg:    0.182   BestAvg:    0.185   σ:    0.166  |  Tot. Steps:    34051   Secs:    581      |  Buffer:  35351   NoiseW: 0.9293\n",
      "Episode:  1400   Avg:    0.181   BestAvg:    0.185   σ:    0.147  |  Tot. Steps:    40864   Secs:    696      |  Buffer:  42264   NoiseW: 0.9155\n",
      "Episode:  1492   Avg:    0.512   BestAvg:    0.512   σ:    0.546  |  Tot. Steps:    59455   Secs:   1006      |  Buffer:  60947   NoiseW: 0.8781\n",
      "\n",
      "Solved in 1392 episodes!\n",
      "Episode:  1500   Avg:    0.584   BestAvg:    0.584   σ:    0.627  |  Tot. Steps:    63287   Secs:   1070      |  Buffer:  64787   NoiseW: 0.8704\n",
      "Episode:  1567   Avg:    0.853   BestAvg:    0.853   σ:    0.784  |  Tot. Steps:    83093   Secs:   1402      |  Buffer:  84660   NoiseW: 0.8307\n",
      "\n",
      "Solved best margin in 1467 episodes!\n"
     ]
    }
   ],
   "source": [
    "# create environment and agent, then run training\n",
    "environment = env.UnityMultiAgent() # CHANGE this filename based on your platform\n",
    "agent = agent.MADDPG()\n",
    "stats = run.train(environment, agent, notebook=True)\n",
    "\n",
    "# Scores for plotting below\n",
    "scores = stats.scores \n",
    "averages = stats.avg_scores"
   ]
  },
  {
   "cell_type": "markdown",
   "metadata": {},
   "source": [
    "### 4. Plot of the scores and average scores"
   ]
  },
  {
   "cell_type": "code",
   "execution_count": 4,
   "metadata": {},
   "outputs": [
    {
     "data": {
      "image/png": "[encoded data removed]",
      "text/plain": [
       "<Figure size 432x288 with 2 Axes>"
      ]
     },
     "metadata": {},
     "output_type": "display_data"
    }
   ],
   "source": [
    "import matplotlib.pyplot as plt\n",
    "\n",
    "fig = plt.figure()\n",
    "plt.subplot(2, 1, 1)\n",
    "plt.plot(np.arange(1, len(scores)+1), scores)\n",
    "plt.ylabel('Score')\n",
    "plt.xlabel('Episode #')\n",
    "\n",
    "plt.subplot(2, 1, 2)\n",
    "plt.plot(np.arange(1, len(scores)+1), averages)\n",
    "plt.ylabel('Average Score')\n",
    "plt.xlabel('Episode #')\n",
    "plt.show()"
   ]
  },
  {
   "cell_type": "code",
   "execution_count": null,
   "metadata": {},
   "outputs": [],
   "source": []
  }
 ],
 "metadata": {
  "kernelspec": {
   "display_name": "drlnd",
   "language": "python",
   "name": "drlnd"
  },
  "language_info": {
   "codemirror_mode": {
    "name": "ipython",
    "version": 3
   },
   "file_extension": ".py",
   "mimetype": "text/x-python",
   "name": "python",
   "nbconvert_exporter": "python",
   "pygments_lexer": "ipython3",
   "version": "3.6.4"
  }
 },
 "nbformat": 4,
 "nbformat_minor": 2
}
